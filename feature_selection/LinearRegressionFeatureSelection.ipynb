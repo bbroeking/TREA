{
 "cells": [
  {
   "cell_type": "code",
   "execution_count": 2,
   "metadata": {},
   "outputs": [],
   "source": [
    "#importing libraries\n",
    "from sklearn.datasets import load_boston\n",
    "import pandas as pd\n",
    "import numpy as np\n",
    "import matplotlib\n",
    "import matplotlib.pyplot as plt\n",
    "import seaborn as sns\n",
    "import statsmodels.api as sm\n",
    "%matplotlib inline\n",
    "from sklearn.model_selection import train_test_split\n",
    "from sklearn.linear_model import LinearRegression\n",
    "from sklearn.feature_selection import RFE\n",
    "from sklearn.linear_model import RidgeCV, LassoCV, Ridge, Lasso"
   ]
  },
  {
   "cell_type": "code",
   "execution_count": 44,
   "metadata": {},
   "outputs": [],
   "source": [
    "s2017 = pd.read_csv(\"statcast_by_inning2017.csv\")\n",
    "s2018 = pd.read_csv(\"statcast_by_inning2018.csv\")\n",
    "s2019 = pd.read_csv(\"statcast_by_inning2019.csv\")"
   ]
  },
  {
   "cell_type": "code",
   "execution_count": 45,
   "metadata": {},
   "outputs": [
    {
     "data": {
      "text/html": [
       "<div>\n",
       "<style scoped>\n",
       "    .dataframe tbody tr th:only-of-type {\n",
       "        vertical-align: middle;\n",
       "    }\n",
       "\n",
       "    .dataframe tbody tr th {\n",
       "        vertical-align: top;\n",
       "    }\n",
       "\n",
       "    .dataframe thead th {\n",
       "        text-align: right;\n",
       "    }\n",
       "</style>\n",
       "<table border=\"1\" class=\"dataframe\">\n",
       "  <thead>\n",
       "    <tr style=\"text-align: right;\">\n",
       "      <th></th>\n",
       "      <th>game_pk</th>\n",
       "      <th>inning</th>\n",
       "      <th>pitchers_used</th>\n",
       "      <th>avg_launch_speed</th>\n",
       "      <th>avg_launch_angle</th>\n",
       "      <th>pitcher_id</th>\n",
       "      <th>run_scored</th>\n",
       "      <th>est_ba</th>\n",
       "      <th>est_woba</th>\n",
       "      <th>swinging_strikes</th>\n",
       "      <th>...</th>\n",
       "      <th>unknown_speed</th>\n",
       "      <th>ground_ball_distance</th>\n",
       "      <th>ground_ball_count</th>\n",
       "      <th>popup_count</th>\n",
       "      <th>line_drive_distance</th>\n",
       "      <th>line_drive_count</th>\n",
       "      <th>fly_ball_distance</th>\n",
       "      <th>fly_ball_count</th>\n",
       "      <th>fly_line_count</th>\n",
       "      <th>fly_line_distance</th>\n",
       "    </tr>\n",
       "  </thead>\n",
       "  <tbody>\n",
       "    <tr>\n",
       "      <th>count</th>\n",
       "      <td>43114.000000</td>\n",
       "      <td>43114.000000</td>\n",
       "      <td>43114.000000</td>\n",
       "      <td>42983.000000</td>\n",
       "      <td>42983.000000</td>\n",
       "      <td>43114.000000</td>\n",
       "      <td>43114.000000</td>\n",
       "      <td>42294.000000</td>\n",
       "      <td>42294.000000</td>\n",
       "      <td>43114.000000</td>\n",
       "      <td>...</td>\n",
       "      <td>49.000000</td>\n",
       "      <td>30544.000000</td>\n",
       "      <td>43114.000000</td>\n",
       "      <td>43114.000000</td>\n",
       "      <td>21822.000000</td>\n",
       "      <td>43114.000000</td>\n",
       "      <td>20750.000000</td>\n",
       "      <td>43114.000000</td>\n",
       "      <td>43114.000000</td>\n",
       "      <td>32342.000000</td>\n",
       "    </tr>\n",
       "    <tr>\n",
       "      <th>mean</th>\n",
       "      <td>491302.676602</td>\n",
       "      <td>5.004291</td>\n",
       "      <td>1.121747</td>\n",
       "      <td>81.751295</td>\n",
       "      <td>15.074244</td>\n",
       "      <td>538420.124066</td>\n",
       "      <td>0.276198</td>\n",
       "      <td>0.302776</td>\n",
       "      <td>0.344507</td>\n",
       "      <td>1.739690</td>\n",
       "      <td>...</td>\n",
       "      <td>89.366244</td>\n",
       "      <td>34.646546</td>\n",
       "      <td>1.333604</td>\n",
       "      <td>0.210187</td>\n",
       "      <td>257.277333</td>\n",
       "      <td>0.738925</td>\n",
       "      <td>318.728693</td>\n",
       "      <td>0.658371</td>\n",
       "      <td>1.397296</td>\n",
       "      <td>286.393089</td>\n",
       "    </tr>\n",
       "    <tr>\n",
       "      <th>std</th>\n",
       "      <td>697.488076</td>\n",
       "      <td>2.647956</td>\n",
       "      <td>0.367729</td>\n",
       "      <td>8.508783</td>\n",
       "      <td>16.422923</td>\n",
       "      <td>75010.473991</td>\n",
       "      <td>0.447121</td>\n",
       "      <td>0.177467</td>\n",
       "      <td>0.234563</td>\n",
       "      <td>1.450483</td>\n",
       "      <td>...</td>\n",
       "      <td>4.686655</td>\n",
       "      <td>34.657956</td>\n",
       "      <td>1.033689</td>\n",
       "      <td>0.450693</td>\n",
       "      <td>68.575147</td>\n",
       "      <td>0.888925</td>\n",
       "      <td>57.033784</td>\n",
       "      <td>0.785913</td>\n",
       "      <td>1.179127</td>\n",
       "      <td>62.659290</td>\n",
       "    </tr>\n",
       "    <tr>\n",
       "      <th>min</th>\n",
       "      <td>490098.000000</td>\n",
       "      <td>1.000000</td>\n",
       "      <td>1.000000</td>\n",
       "      <td>28.100000</td>\n",
       "      <td>-68.200000</td>\n",
       "      <td>112526.000000</td>\n",
       "      <td>0.000000</td>\n",
       "      <td>0.000000</td>\n",
       "      <td>0.000000</td>\n",
       "      <td>0.000000</td>\n",
       "      <td>...</td>\n",
       "      <td>76.935000</td>\n",
       "      <td>0.000000</td>\n",
       "      <td>0.000000</td>\n",
       "      <td>0.000000</td>\n",
       "      <td>4.000000</td>\n",
       "      <td>0.000000</td>\n",
       "      <td>0.000000</td>\n",
       "      <td>0.000000</td>\n",
       "      <td>0.000000</td>\n",
       "      <td>0.000000</td>\n",
       "    </tr>\n",
       "    <tr>\n",
       "      <th>25%</th>\n",
       "      <td>490696.000000</td>\n",
       "      <td>3.000000</td>\n",
       "      <td>1.000000</td>\n",
       "      <td>76.621111</td>\n",
       "      <td>4.800000</td>\n",
       "      <td>488768.000000</td>\n",
       "      <td>0.000000</td>\n",
       "      <td>0.162500</td>\n",
       "      <td>0.166667</td>\n",
       "      <td>1.000000</td>\n",
       "      <td>...</td>\n",
       "      <td>87.236000</td>\n",
       "      <td>8.000000</td>\n",
       "      <td>1.000000</td>\n",
       "      <td>0.000000</td>\n",
       "      <td>206.000000</td>\n",
       "      <td>0.000000</td>\n",
       "      <td>278.000000</td>\n",
       "      <td>0.000000</td>\n",
       "      <td>1.000000</td>\n",
       "      <td>247.500000</td>\n",
       "    </tr>\n",
       "    <tr>\n",
       "      <th>50%</th>\n",
       "      <td>491302.000000</td>\n",
       "      <td>5.000000</td>\n",
       "      <td>1.000000</td>\n",
       "      <td>82.125000</td>\n",
       "      <td>15.640000</td>\n",
       "      <td>543557.000000</td>\n",
       "      <td>0.000000</td>\n",
       "      <td>0.296250</td>\n",
       "      <td>0.313550</td>\n",
       "      <td>2.000000</td>\n",
       "      <td>...</td>\n",
       "      <td>89.684000</td>\n",
       "      <td>22.000000</td>\n",
       "      <td>1.000000</td>\n",
       "      <td>0.000000</td>\n",
       "      <td>259.500000</td>\n",
       "      <td>1.000000</td>\n",
       "      <td>320.000000</td>\n",
       "      <td>0.000000</td>\n",
       "      <td>1.000000</td>\n",
       "      <td>290.000000</td>\n",
       "    </tr>\n",
       "    <tr>\n",
       "      <th>75%</th>\n",
       "      <td>491907.000000</td>\n",
       "      <td>7.000000</td>\n",
       "      <td>1.000000</td>\n",
       "      <td>87.328571</td>\n",
       "      <td>25.775000</td>\n",
       "      <td>600526.000000</td>\n",
       "      <td>1.000000</td>\n",
       "      <td>0.422667</td>\n",
       "      <td>0.473250</td>\n",
       "      <td>3.000000</td>\n",
       "      <td>...</td>\n",
       "      <td>91.586000</td>\n",
       "      <td>52.333333</td>\n",
       "      <td>2.000000</td>\n",
       "      <td>0.000000</td>\n",
       "      <td>308.000000</td>\n",
       "      <td>1.000000</td>\n",
       "      <td>360.000000</td>\n",
       "      <td>1.000000</td>\n",
       "      <td>2.000000</td>\n",
       "      <td>329.750000</td>\n",
       "    </tr>\n",
       "    <tr>\n",
       "      <th>max</th>\n",
       "      <td>492513.000000</td>\n",
       "      <td>19.000000</td>\n",
       "      <td>5.000000</td>\n",
       "      <td>114.900000</td>\n",
       "      <td>88.000000</td>\n",
       "      <td>664701.000000</td>\n",
       "      <td>1.000000</td>\n",
       "      <td>1.000000</td>\n",
       "      <td>1.993000</td>\n",
       "      <td>11.000000</td>\n",
       "      <td>...</td>\n",
       "      <td>99.037000</td>\n",
       "      <td>412.000000</td>\n",
       "      <td>10.000000</td>\n",
       "      <td>3.000000</td>\n",
       "      <td>464.000000</td>\n",
       "      <td>8.000000</td>\n",
       "      <td>490.000000</td>\n",
       "      <td>6.000000</td>\n",
       "      <td>12.000000</td>\n",
       "      <td>490.000000</td>\n",
       "    </tr>\n",
       "  </tbody>\n",
       "</table>\n",
       "<p>8 rows × 51 columns</p>\n",
       "</div>"
      ],
      "text/plain": [
       "             game_pk        inning  pitchers_used  avg_launch_speed  \\\n",
       "count   43114.000000  43114.000000   43114.000000      42983.000000   \n",
       "mean   491302.676602      5.004291       1.121747         81.751295   \n",
       "std       697.488076      2.647956       0.367729          8.508783   \n",
       "min    490098.000000      1.000000       1.000000         28.100000   \n",
       "25%    490696.000000      3.000000       1.000000         76.621111   \n",
       "50%    491302.000000      5.000000       1.000000         82.125000   \n",
       "75%    491907.000000      7.000000       1.000000         87.328571   \n",
       "max    492513.000000     19.000000       5.000000        114.900000   \n",
       "\n",
       "       avg_launch_angle     pitcher_id    run_scored        est_ba  \\\n",
       "count      42983.000000   43114.000000  43114.000000  42294.000000   \n",
       "mean          15.074244  538420.124066      0.276198      0.302776   \n",
       "std           16.422923   75010.473991      0.447121      0.177467   \n",
       "min          -68.200000  112526.000000      0.000000      0.000000   \n",
       "25%            4.800000  488768.000000      0.000000      0.162500   \n",
       "50%           15.640000  543557.000000      0.000000      0.296250   \n",
       "75%           25.775000  600526.000000      1.000000      0.422667   \n",
       "max           88.000000  664701.000000      1.000000      1.000000   \n",
       "\n",
       "           est_woba  swinging_strikes        ...          unknown_speed  \\\n",
       "count  42294.000000      43114.000000        ...              49.000000   \n",
       "mean       0.344507          1.739690        ...              89.366244   \n",
       "std        0.234563          1.450483        ...               4.686655   \n",
       "min        0.000000          0.000000        ...              76.935000   \n",
       "25%        0.166667          1.000000        ...              87.236000   \n",
       "50%        0.313550          2.000000        ...              89.684000   \n",
       "75%        0.473250          3.000000        ...              91.586000   \n",
       "max        1.993000         11.000000        ...              99.037000   \n",
       "\n",
       "       ground_ball_distance  ground_ball_count   popup_count  \\\n",
       "count          30544.000000       43114.000000  43114.000000   \n",
       "mean              34.646546           1.333604      0.210187   \n",
       "std               34.657956           1.033689      0.450693   \n",
       "min                0.000000           0.000000      0.000000   \n",
       "25%                8.000000           1.000000      0.000000   \n",
       "50%               22.000000           1.000000      0.000000   \n",
       "75%               52.333333           2.000000      0.000000   \n",
       "max              412.000000          10.000000      3.000000   \n",
       "\n",
       "       line_drive_distance  line_drive_count  fly_ball_distance  \\\n",
       "count         21822.000000      43114.000000       20750.000000   \n",
       "mean            257.277333          0.738925         318.728693   \n",
       "std              68.575147          0.888925          57.033784   \n",
       "min               4.000000          0.000000           0.000000   \n",
       "25%             206.000000          0.000000         278.000000   \n",
       "50%             259.500000          1.000000         320.000000   \n",
       "75%             308.000000          1.000000         360.000000   \n",
       "max             464.000000          8.000000         490.000000   \n",
       "\n",
       "       fly_ball_count  fly_line_count  fly_line_distance  \n",
       "count    43114.000000    43114.000000       32342.000000  \n",
       "mean         0.658371        1.397296         286.393089  \n",
       "std          0.785913        1.179127          62.659290  \n",
       "min          0.000000        0.000000           0.000000  \n",
       "25%          0.000000        1.000000         247.500000  \n",
       "50%          0.000000        1.000000         290.000000  \n",
       "75%          1.000000        2.000000         329.750000  \n",
       "max          6.000000       12.000000         490.000000  \n",
       "\n",
       "[8 rows x 51 columns]"
      ]
     },
     "execution_count": 45,
     "metadata": {},
     "output_type": "execute_result"
    }
   ],
   "source": [
    "s2017.describe()"
   ]
  },
  {
   "cell_type": "code",
   "execution_count": 5,
   "metadata": {},
   "outputs": [],
   "source": [
    "s2017a = s2017.iloc[:,0:15]\n",
    "s2017b = s2017.iloc[:,15:30]\n",
    "s2017c = s2017.iloc[:,30:53]\n",
    "\n",
    "s2017b['run_scored'] = s2017a['run_scored']\n",
    "s2017c['run_scored'] = s2017a['run_scored']"
   ]
  },
  {
   "cell_type": "code",
   "execution_count": 6,
   "metadata": {},
   "outputs": [
    {
     "data": {
      "image/png": "[encoded data removed]",
      "text/plain": [
       "<Figure size 2880x2880 with 2 Axes>"
      ]
     },
     "metadata": {
      "needs_background": "light"
     },
     "output_type": "display_data"
    }
   ],
   "source": [
    "#Using Pearson Correlation\n",
    "plt.figure(figsize=(40,40))\n",
    "cor = s2017a.corr()\n",
    "sns.heatmap(cor, annot=True, cmap=plt.cm.Reds)\n",
    "plt.show()"
   ]
  },
  {
   "cell_type": "markdown",
   "metadata": {},
   "source": [
    "Correlations 2017"
   ]
  },
  {
   "cell_type": "code",
   "execution_count": 7,
   "metadata": {},
   "outputs": [
    {
     "data": {
      "text/plain": [
       "pitchers_used        0.254385\n",
       "run_scored           1.000000\n",
       "est_ba               0.381636\n",
       "est_woba             0.469739\n",
       "ball                 0.413481\n",
       "foul                 0.256438\n",
       "ball_in_play         0.588149\n",
       "scoring_plays        0.849565\n",
       "single               0.421900\n",
       "double               0.377550\n",
       "home_run             0.588010\n",
       "line_drive_count     0.393094\n",
       "fly_ball_distance    0.379965\n",
       "fly_ball_count       0.328130\n",
       "fly_line_count       0.515053\n",
       "Name: run_scored, dtype: float64"
      ]
     },
     "execution_count": 7,
     "metadata": {},
     "output_type": "execute_result"
    }
   ],
   "source": [
    "cor = s2017.corr()\n",
    "#Correlation with output variable\n",
    "cor_target = abs(cor[\"run_scored\"])\n",
    "#Selecting highly correlated features\n",
    "relevant_features = cor_target[cor_target>0.25]\n",
    "relevant_features"
   ]
  },
  {
   "cell_type": "markdown",
   "metadata": {},
   "source": [
    "Correlations 2018"
   ]
  },
  {
   "cell_type": "code",
   "execution_count": 8,
   "metadata": {},
   "outputs": [
    {
     "data": {
      "text/plain": [
       "pitchers_used        0.261173\n",
       "run_scored           1.000000\n",
       "est_ba               0.357214\n",
       "est_woba             0.442820\n",
       "ball                 0.410194\n",
       "foul                 0.253514\n",
       "ball_in_play         0.588044\n",
       "scoring_plays        0.855554\n",
       "single               0.423114\n",
       "double               0.389211\n",
       "home_run             0.579763\n",
       "line_drive_count     0.389585\n",
       "fly_ball_distance    0.362154\n",
       "fly_ball_count       0.338118\n",
       "fly_line_count       0.519266\n",
       "Name: run_scored, dtype: float64"
      ]
     },
     "execution_count": 8,
     "metadata": {},
     "output_type": "execute_result"
    }
   ],
   "source": [
    "cor = s2018.corr()\n",
    "#Correlation with output variable\n",
    "cor_target = abs(cor[\"run_scored\"])\n",
    "#Selecting highly correlated features\n",
    "relevant_features = cor_target[cor_target>0.25]\n",
    "relevant_features"
   ]
  },
  {
   "cell_type": "markdown",
   "metadata": {},
   "source": [
    "Correlations 2019"
   ]
  },
  {
   "cell_type": "code",
   "execution_count": 9,
   "metadata": {},
   "outputs": [
    {
     "data": {
      "text/plain": [
       "run_scored           1.000000\n",
       "est_ba               0.369749\n",
       "est_woba             0.470527\n",
       "ball_in_play         0.489780\n",
       "scoring_plays        0.810220\n",
       "single               0.388046\n",
       "double               0.359743\n",
       "home_run             0.579241\n",
       "line_drive_count     0.355973\n",
       "fly_ball_distance    0.401667\n",
       "fly_line_count       0.481742\n",
       "Name: run_scored, dtype: float64"
      ]
     },
     "execution_count": 9,
     "metadata": {},
     "output_type": "execute_result"
    }
   ],
   "source": [
    "cor = s2019.corr()\n",
    "#Correlation with output variable\n",
    "cor_target = abs(cor[\"run_scored\"])\n",
    "#Selecting highly correlated features\n",
    "relevant_features = cor_target[cor_target>0.35]\n",
    "relevant_features"
   ]
  },
  {
   "cell_type": "markdown",
   "metadata": {},
   "source": [
    "## run_scored Grouping Statistics"
   ]
  },
  {
   "cell_type": "code",
   "execution_count": 53,
   "metadata": {},
   "outputs": [
    {
     "data": {
      "text/html": [
       "<div>\n",
       "<style scoped>\n",
       "    .dataframe tbody tr th:only-of-type {\n",
       "        vertical-align: middle;\n",
       "    }\n",
       "\n",
       "    .dataframe tbody tr th {\n",
       "        vertical-align: top;\n",
       "    }\n",
       "\n",
       "    .dataframe thead th {\n",
       "        text-align: right;\n",
       "    }\n",
       "</style>\n",
       "<table border=\"1\" class=\"dataframe\">\n",
       "  <thead>\n",
       "    <tr style=\"text-align: right;\">\n",
       "      <th></th>\n",
       "      <th>game_pk</th>\n",
       "      <th>inning</th>\n",
       "      <th>pitchers_used</th>\n",
       "      <th>avg_launch_speed</th>\n",
       "      <th>avg_launch_angle</th>\n",
       "      <th>pitcher_id</th>\n",
       "      <th>est_ba</th>\n",
       "      <th>est_woba</th>\n",
       "      <th>swinging_strikes</th>\n",
       "      <th>called_strike</th>\n",
       "      <th>...</th>\n",
       "      <th>unknown_speed</th>\n",
       "      <th>ground_ball_distance</th>\n",
       "      <th>ground_ball_count</th>\n",
       "      <th>popup_count</th>\n",
       "      <th>line_drive_distance</th>\n",
       "      <th>line_drive_count</th>\n",
       "      <th>fly_ball_distance</th>\n",
       "      <th>fly_ball_count</th>\n",
       "      <th>fly_line_count</th>\n",
       "      <th>fly_line_distance</th>\n",
       "    </tr>\n",
       "    <tr>\n",
       "      <th>run_scored</th>\n",
       "      <th></th>\n",
       "      <th></th>\n",
       "      <th></th>\n",
       "      <th></th>\n",
       "      <th></th>\n",
       "      <th></th>\n",
       "      <th></th>\n",
       "      <th></th>\n",
       "      <th></th>\n",
       "      <th></th>\n",
       "      <th></th>\n",
       "      <th></th>\n",
       "      <th></th>\n",
       "      <th></th>\n",
       "      <th></th>\n",
       "      <th></th>\n",
       "      <th></th>\n",
       "      <th></th>\n",
       "      <th></th>\n",
       "      <th></th>\n",
       "      <th></th>\n",
       "    </tr>\n",
       "  </thead>\n",
       "  <tbody>\n",
       "    <tr>\n",
       "      <th>0</th>\n",
       "      <td>529156.062646</td>\n",
       "      <td>5.049499</td>\n",
       "      <td>1.062859</td>\n",
       "      <td>82.064584</td>\n",
       "      <td>15.026384</td>\n",
       "      <td>555149.049200</td>\n",
       "      <td>0.259988</td>\n",
       "      <td>0.273088</td>\n",
       "      <td>1.769500</td>\n",
       "      <td>2.665047</td>\n",
       "      <td>...</td>\n",
       "      <td>88.992591</td>\n",
       "      <td>31.933486</td>\n",
       "      <td>1.210673</td>\n",
       "      <td>0.217076</td>\n",
       "      <td>254.354474</td>\n",
       "      <td>0.540331</td>\n",
       "      <td>302.188740</td>\n",
       "      <td>0.523306</td>\n",
       "      <td>1.063637</td>\n",
       "      <td>278.115070</td>\n",
       "    </tr>\n",
       "    <tr>\n",
       "      <th>1</th>\n",
       "      <td>529661.332923</td>\n",
       "      <td>4.963419</td>\n",
       "      <td>1.274354</td>\n",
       "      <td>84.963040</td>\n",
       "      <td>16.054806</td>\n",
       "      <td>563338.091087</td>\n",
       "      <td>0.406289</td>\n",
       "      <td>0.511629</td>\n",
       "      <td>2.175144</td>\n",
       "      <td>3.506778</td>\n",
       "      <td>...</td>\n",
       "      <td>88.209900</td>\n",
       "      <td>37.473707</td>\n",
       "      <td>1.719680</td>\n",
       "      <td>0.228615</td>\n",
       "      <td>260.361377</td>\n",
       "      <td>1.338384</td>\n",
       "      <td>345.861511</td>\n",
       "      <td>1.163296</td>\n",
       "      <td>2.501681</td>\n",
       "      <td>303.476614</td>\n",
       "    </tr>\n",
       "  </tbody>\n",
       "</table>\n",
       "<p>2 rows × 50 columns</p>\n",
       "</div>"
      ],
      "text/plain": [
       "                  game_pk    inning  pitchers_used  avg_launch_speed  \\\n",
       "run_scored                                                             \n",
       "0           529156.062646  5.049499       1.062859         82.064584   \n",
       "1           529661.332923  4.963419       1.274354         84.963040   \n",
       "\n",
       "            avg_launch_angle     pitcher_id    est_ba  est_woba  \\\n",
       "run_scored                                                        \n",
       "0                  15.026384  555149.049200  0.259988  0.273088   \n",
       "1                  16.054806  563338.091087  0.406289  0.511629   \n",
       "\n",
       "            swinging_strikes  called_strike        ...          unknown_speed  \\\n",
       "run_scored                                         ...                          \n",
       "0                   1.769500       2.665047        ...              88.992591   \n",
       "1                   2.175144       3.506778        ...              88.209900   \n",
       "\n",
       "            ground_ball_distance  ground_ball_count  popup_count  \\\n",
       "run_scored                                                         \n",
       "0                      31.933486           1.210673     0.217076   \n",
       "1                      37.473707           1.719680     0.228615   \n",
       "\n",
       "            line_drive_distance  line_drive_count  fly_ball_distance  \\\n",
       "run_scored                                                             \n",
       "0                    254.354474          0.540331         302.188740   \n",
       "1                    260.361377          1.338384         345.861511   \n",
       "\n",
       "            fly_ball_count  fly_line_count  fly_line_distance  \n",
       "run_scored                                                     \n",
       "0                 0.523306        1.063637         278.115070  \n",
       "1                 1.163296        2.501681         303.476614  \n",
       "\n",
       "[2 rows x 50 columns]"
      ]
     },
     "execution_count": 53,
     "metadata": {},
     "output_type": "execute_result"
    }
   ],
   "source": [
    "statcast = pd.concat([s2017, s2018, s2019])\n",
    "statcast.groupby(\"run_scored\").mean()"
   ]
  },
  {
   "cell_type": "code",
   "execution_count": 54,
   "metadata": {},
   "outputs": [],
   "source": [
    "y = statcast[['run_scored']]\n",
    "statcast.drop(['game_pk', 'inning_topbot', 'game_date', 'run_scored'], axis=1, inplace=True)\n",
    "X = statcast\n",
    "X = X.fillna(0)"
   ]
  },
  {
   "cell_type": "code",
   "execution_count": 56,
   "metadata": {},
   "outputs": [
    {
     "data": {
      "text/plain": [
       "const            9.573546e-51\n",
       "inning           3.388901e-08\n",
       "pitchers_used    2.306680e-29\n",
       "dtype: float64"
      ]
     },
     "execution_count": 56,
     "metadata": {},
     "output_type": "execute_result"
    }
   ],
   "source": [
    "#Adding constant column of ones, mandatory for sm.OLS model\n",
    "X_1 = sm.add_constant(X)\n",
    "#Fitting sm.OLS model\n",
    "model = sm.OLS(y, X_1).fit()\n",
    "model.pvalues[0:3]"
   ]
  },
  {
   "cell_type": "markdown",
   "metadata": {},
   "source": [
    "As the name suggest, we feed all the possible features to the model at first. We check the performance of the model and then iteratively remove the worst performing features one by one till the overall performance of the model comes in acceptable range.\n",
    "The performance metric used here to evaluate feature performance is pvalue. If the pvalue is above 0.05 then we remove the feature, else we keep it."
   ]
  },
  {
   "cell_type": "code",
   "execution_count": 12,
   "metadata": {},
   "outputs": [
    {
     "name": "stdout",
     "output_type": "stream",
     "text": [
      "['inning', 'pitchers_used', 'avg_launch_speed', 'avg_launch_angle', 'est_ba', 'est_woba', 'swinging_strikes', 'ball', 'foul', 'hbp', 'ball_in_play', 'scoring_plays', 'walk', 'strikeout', 'single', 'double', 'triple', 'home_run', 'four_seam', 'slider', 'two_seam', 'curveball', 'changeup', 'sinker', 'cutter', 'pitch_unknow', 'four_seam_speed', 'slider_speed', 'curveball_speed', 'changeup_speed', 'sinker_speed', 'cutter_speed', 'popup_count', 'line_drive_distance', 'line_drive_count', 'fly_ball_distance', 'fly_line_count', 'fly_line_distance']\n"
     ]
    }
   ],
   "source": [
    "#Backward Elimination\n",
    "cols = list(X.columns)\n",
    "pmax = 1\n",
    "while(len(cols)>0):\n",
    "    p = []\n",
    "    X_1 = X[cols]\n",
    "    X_1 = sm.add_constant(X_1)\n",
    "    model = sm.OLS(y,X_1).fit()\n",
    "    p = pd.Series(model.pvalues.values[1:], index=cols)      \n",
    "    pmax = max(p)\n",
    "    feature_with_p_max = p.idxmax()\n",
    "    if(pmax>0.05):\n",
    "        cols.remove(feature_with_p_max)\n",
    "    else:\n",
    "        break\n",
    "selected_features_BE = cols\n",
    "print(selected_features_BE)"
   ]
  },
  {
   "cell_type": "markdown",
   "metadata": {},
   "source": [
    "The Recursive Feature Elimination (RFE) method works by recursively removing attributes and building a model on those attributes that remain. It uses accuracy metric to rank the feature according to their importance. The RFE method takes the model to be used and the number of required features as input. It then gives the ranking of all the variables, 1 being most important. It also gives its support, True being relevant feature and False being irrelevant feature."
   ]
  },
  {
   "cell_type": "code",
   "execution_count": 57,
   "metadata": {},
   "outputs": [
    {
     "name": "stderr",
     "output_type": "stream",
     "text": [
      "/Library/Frameworks/Python.framework/Versions/3.7/lib/python3.7/site-packages/sklearn/utils/validation.py:761: DataConversionWarning: A column-vector y was passed when a 1d array was expected. Please change the shape of y to (n_samples, ), for example using ravel().\n",
      "  y = column_or_1d(y, warn=True)\n"
     ]
    },
    {
     "name": "stdout",
     "output_type": "stream",
     "text": [
      "Index(['inning', 'pitchers_used', 'avg_launch_speed', 'avg_launch_angle',\n",
      "       'pitcher_id', 'est_ba', 'est_woba', 'swinging_strikes', 'called_strike',\n",
      "       'ball', 'foul', 'hbp', 'ball_in_play', 'scoring_plays', 'walk',\n",
      "       'strikeout', 'single', 'double', 'triple', 'home_run', 'four_seam',\n",
      "       'slider', 'split_finger', 'two_seam', 'curveball', 'changeup',\n",
      "       'knuckle_curve', 'sinker', 'cutter', 'pitch_unknow', 'four_seam_speed',\n",
      "       'slider_speed', 'split_finger_speed', 'two_seam_speed',\n",
      "       'curveball_speed', 'changeup_speed', 'knuckle_curve_speed',\n",
      "       'sinker_speed', 'cutter_speed', 'unknown_speed', 'ground_ball_distance',\n",
      "       'ground_ball_count', 'popup_count', 'line_drive_distance',\n",
      "       'line_drive_count', 'fly_ball_distance', 'fly_ball_count',\n",
      "       'fly_line_count', 'fly_line_distance'],\n",
      "      dtype='object')\n",
      "[False False False False False  True  True False False False False False\n",
      " False  True False  True False  True  True  True False False False False\n",
      " False False False False False False False False False False False False\n",
      " False False False False False False False False False False False False\n",
      " False]\n",
      "[14  6 18 30 43  1  1 19 12 16 28  4  3  1 11  1  2  1  1  1 17 24 35 26\n",
      " 27 23 13 15 25 20 32 34 40 41 37 29 38 33 36 39 42 10  9 22  5 21  8  7\n",
      " 31]\n"
     ]
    }
   ],
   "source": [
    "model = LinearRegression()\n",
    "#Initializing RFE model\n",
    "rfe = RFE(model, 7)\n",
    "#Transforming data using RFE\n",
    "# y = column_or_1d(y, warn=True)\n",
    "X_rfe = rfe.fit_transform(X,y)  \n",
    "#Fitting the data to model\n",
    "model.fit(X_rfe,y)\n",
    "print(X.columns)\n",
    "print(rfe.support_)\n",
    "print(rfe.ranking_)"
   ]
  },
  {
   "cell_type": "markdown",
   "metadata": {},
   "source": [
    "## Results from RFE for LinearRegression\n",
    "['est_woba',\n",
    " 'scoring_plays',\n",
    " 'strikeout',\n",
    " 'double',\n",
    " 'triple',\n",
    " 'home_run']"
   ]
  },
  {
   "cell_type": "code",
   "execution_count": 58,
   "metadata": {},
   "outputs": [
    {
     "data": {
      "text/plain": [
       "['est_ba',\n",
       " 'est_woba',\n",
       " 'scoring_plays',\n",
       " 'strikeout',\n",
       " 'double',\n",
       " 'triple',\n",
       " 'home_run']"
      ]
     },
     "execution_count": 58,
     "metadata": {},
     "output_type": "execute_result"
    }
   ],
   "source": [
    "result = [x for x, y in zip(list(X.columns), list(rfe.support_)) if y == True]\n",
    "result"
   ]
  },
  {
   "cell_type": "code",
   "execution_count": 59,
   "metadata": {},
   "outputs": [],
   "source": [
    "X=X[['est_woba',\n",
    " 'scoring_plays',\n",
    " 'strikeout',\n",
    " 'double',\n",
    " 'triple',\n",
    " 'home_run']]"
   ]
  },
  {
   "cell_type": "code",
   "execution_count": 60,
   "metadata": {},
   "outputs": [
    {
     "name": "stdout",
     "output_type": "stream",
     "text": [
      "(90694, 6) (90694, 1)\n",
      "(38869, 6) (38869, 1)\n"
     ]
    }
   ],
   "source": [
    "from sklearn.model_selection import train_test_split\n",
    "\n",
    "# create training and testing vars\n",
    "X_train, X_test, y_train, y_test = train_test_split(X, y, test_size=0.3, random_state=31)\n",
    "print(X_train.shape, y_train.shape)\n",
    "print(X_test.shape, y_test.shape)"
   ]
  },
  {
   "cell_type": "markdown",
   "metadata": {},
   "source": [
    "## Linear Regression"
   ]
  },
  {
   "cell_type": "code",
   "execution_count": 64,
   "metadata": {},
   "outputs": [
    {
     "name": "stdout",
     "output_type": "stream",
     "text": [
      "Coefficients: \n",
      " [[ 0.24106363  0.41083786 -0.01775312  0.00747782  0.01493383  0.12283162]]\n",
      "Mean squared error: 0.05\n",
      "Coefficient of determination: 0.73\n",
      "Score: 0.7326230515519805\n"
     ]
    }
   ],
   "source": [
    "from sklearn import linear_model\n",
    "from sklearn.metrics import mean_squared_error, r2_score\n",
    "\n",
    "\n",
    "# Create linear regression object\n",
    "lm = linear_model.LinearRegression()\n",
    "\n",
    "# Train the model using the training sets\n",
    "model = lm.fit(X_train, y_train)\n",
    "\n",
    "# Make predictions using the testing set\n",
    "predictions = lm.predict(X_test)\n",
    "\n",
    "# The coefficients\n",
    "print('Coefficients: \\n', lm.coef_)\n",
    "# The mean squared error\n",
    "print('Mean squared error: %.2f'\n",
    "      % mean_squared_error(y_test, predictions))\n",
    "# The coefficient of determination: 1 is perfect prediction\n",
    "print('Coefficient of determination: %.2f'\n",
    "      % r2_score(y_test, predictions))\n",
    "print(\"Score:\", model.score(X_test, y_test))"
   ]
  },
  {
   "cell_type": "markdown",
   "metadata": {},
   "source": [
    "## K-fold Cross-validation"
   ]
  },
  {
   "cell_type": "code",
   "execution_count": 65,
   "metadata": {},
   "outputs": [
    {
     "data": {
      "text/plain": [
       "KFold(n_splits=4, random_state=None, shuffle=False)"
      ]
     },
     "execution_count": 65,
     "metadata": {},
     "output_type": "execute_result"
    }
   ],
   "source": [
    "from sklearn.model_selection import KFold # import KFold\n",
    "kf = KFold(n_splits=4) # Define the split - into 2 folds \n",
    "kf.get_n_splits(X) # returns the number of splitting iterations in the cross-validator\n",
    "KFold(n_splits=4, random_state=None, shuffle=False)"
   ]
  },
  {
   "cell_type": "code",
   "execution_count": 66,
   "metadata": {},
   "outputs": [
    {
     "name": "stdout",
     "output_type": "stream",
     "text": [
      "Cross-validated scores: [0.74873711 0.74417896 0.74588259 0.75177291 0.75968909 0.74738425\n",
      " 0.73005002 0.67006168 0.67148986 0.67700332]\n",
      "Cross-predicted Accuracy: 0.7220285104858226\n"
     ]
    }
   ],
   "source": [
    "from sklearn.model_selection import cross_val_score, cross_val_predict\n",
    "from sklearn import metrics\n",
    "\n",
    "scores = cross_val_score(model, X, y, cv=10)\n",
    "print(\"Cross-validated scores:\", scores)\n",
    "predictions = cross_val_predict(model, X, y, cv=6)\n",
    "accuracy = metrics.r2_score(y, predictions)\n",
    "print(\"Cross-predicted Accuracy:\", accuracy)"
   ]
  },
  {
   "cell_type": "markdown",
   "metadata": {},
   "source": [
    "## Export Model + Other Data "
   ]
  },
  {
   "cell_type": "code",
   "execution_count": 179,
   "metadata": {},
   "outputs": [
    {
     "data": {
      "text/plain": [
       "['model_columns.pkl']"
      ]
     },
     "execution_count": 179,
     "metadata": {},
     "output_type": "execute_result"
    }
   ],
   "source": [
    "from sklearn.externals import joblib\n",
    "# Export model\n",
    "joblib.dump(model, 'model.pkl')\n",
    "# Export columns\n",
    "model_columns = list(X.columns)\n",
    "joblib.dump(model_columns, 'model_columns.pkl')"
   ]
  }
 ],
 "metadata": {
  "kernelspec": {
   "display_name": "Python 3",
   "language": "python",
   "name": "python3"
  },
  "language_info": {
   "codemirror_mode": {
    "name": "ipython",
    "version": 3
   },
   "file_extension": ".py",
   "mimetype": "text/x-python",
   "name": "python",
   "nbconvert_exporter": "python",
   "pygments_lexer": "ipython3",
   "version": "3.7.2"
  },
  "varInspector": {
   "cols": {
    "lenName": 16,
    "lenType": 16,
    "lenVar": 40
   },
   "kernels_config": {
    "python": {
     "delete_cmd_postfix": "",
     "delete_cmd_prefix": "del ",
     "library": "var_list.py",
     "varRefreshCmd": "print(var_dic_list())"
    },
    "r": {
     "delete_cmd_postfix": ") ",
     "delete_cmd_prefix": "rm(",
     "library": "var_list.r",
     "varRefreshCmd": "cat(var_dic_list()) "
    }
   },
   "types_to_exclude": [
    "module",
    "function",
    "builtin_function_or_method",
    "instance",
    "_Feature"
   ],
   "window_display": false
  }
 },
 "nbformat": 4,
 "nbformat_minor": 2
}
