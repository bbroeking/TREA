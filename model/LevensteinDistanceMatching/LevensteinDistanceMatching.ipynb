{
 "cells": [
  {
   "cell_type": "code",
   "execution_count": 46,
   "metadata": {},
   "outputs": [],
   "source": [
    "import pandas as pd\n",
    "\n",
    "names2019 = pd.read_csv('player_names/2019_player_names.csv')\n",
    "names2018 = pd.read_csv('player_names/2018_player_names.csv')\n",
    "names2017 = pd.read_csv('player_names/2017_player_names.csv')\n",
    "\n",
    "ids = pd.read_csv('ids.csv')\n",
    "ids = ids[['mlb_name', 'fg_id']]"
   ]
  },
  {
   "cell_type": "code",
   "execution_count": 26,
   "metadata": {},
   "outputs": [],
   "source": [
    "missing = list(df.fg_id.notnull())\n",
    "missing = [not i for i in missing]\n",
    "df[missing]"
   ]
  },
  {
   "cell_type": "markdown",
   "metadata": {},
   "source": [
    "taken from https://stackoverflow.com/questions/13636848/is-it-possible-to-do-fuzzy-match-merge-with-python-pandas"
   ]
  },
  {
   "cell_type": "code",
   "execution_count": 37,
   "metadata": {},
   "outputs": [],
   "source": [
    "import fuzzywuzzy\n",
    "def fuzzy_merge(df_1, df_2, key1, key2, threshold=90, limit=2):\n",
    "    \"\"\"\n",
    "    df_1 is the left table to join\n",
    "    df_2 is the right table to join\n",
    "    key1 is the key column of the left table\n",
    "    key2 is the key column of the right table\n",
    "    threshold is how close the matches should be to return a match, based on Levenshtein distance\n",
    "    limit is the amount of matches that will get returned, these are sorted high to low\n",
    "    \"\"\"\n",
    "    s = df_2[key2].tolist()\n",
    "\n",
    "    m = df_1[key1].apply(lambda x: process.extract(x, s, limit=limit))    \n",
    "    df_1['matches'] = m\n",
    "\n",
    "    m2 = df_1['matches'].apply(lambda x: ', '.join([i[0] for i in x if i[1] >= threshold]))\n",
    "    df_1['matches'] = m2\n",
    "\n",
    "    return df_1"
   ]
  },
  {
   "cell_type": "markdown",
   "metadata": {},
   "source": [
    "Levenstein Distance"
   ]
  },
  {
   "cell_type": "code",
   "execution_count": 40,
   "metadata": {},
   "outputs": [],
   "source": [
    "from fuzzywuzzy import fuzz\n",
    "from fuzzywuzzy import process\n",
    "merged2019 = fuzzy_merge(ids, names2019, 'mlb_name', 'name', limit=1)\n",
    "merged2019.to_csv(\"merged2019.csv\")\n",
    "merged2018 = fuzzy_merge(ids, names2018, 'mlb_name', 'name', limit=1)\n",
    "merged2018.to_csv(\"merged2018.csv\")\n",
    "merged2017 = fuzzy_merge(ids, names2017, 'mlb_name', 'name', limit=1)\n",
    "merged2017.to_csv(\"merged2017.csv\")"
   ]
  },
  {
   "cell_type": "code",
   "execution_count": 48,
   "metadata": {},
   "outputs": [],
   "source": [
    "names2019 = pd.read_csv('merged/merged2019.csv')\n",
    "names2019.dropna(inplace=True)\n",
    "names2019.to_csv('merged/merged2019.csv')\n",
    "\n",
    "names2018 = pd.read_csv('merged/merged2018.csv')\n",
    "names2018.dropna(inplace=True)\n",
    "names2018.to_csv('merged/merged2018.csv')\n",
    "\n",
    "names2017 = pd.read_csv('merged/merged2017.csv')\n",
    "names2017.dropna(inplace=True)\n",
    "names2017.to_csv('merged/merged2017.csv')"
   ]
  },
  {
   "cell_type": "code",
   "execution_count": null,
   "metadata": {},
   "outputs": [],
   "source": []
  }
 ],
 "metadata": {
  "kernelspec": {
   "display_name": "Python 3",
   "language": "python",
   "name": "python3"
  },
  "language_info": {
   "codemirror_mode": {
    "name": "ipython",
    "version": 3
   },
   "file_extension": ".py",
   "mimetype": "text/x-python",
   "name": "python",
   "nbconvert_exporter": "python",
   "pygments_lexer": "ipython3",
   "version": "3.7.2"
  },
  "varInspector": {
   "cols": {
    "lenName": 16,
    "lenType": 16,
    "lenVar": 40
   },
   "kernels_config": {
    "python": {
     "delete_cmd_postfix": "",
     "delete_cmd_prefix": "del ",
     "library": "var_list.py",
     "varRefreshCmd": "print(var_dic_list())"
    },
    "r": {
     "delete_cmd_postfix": ") ",
     "delete_cmd_prefix": "rm(",
     "library": "var_list.r",
     "varRefreshCmd": "cat(var_dic_list()) "
    }
   },
   "types_to_exclude": [
    "module",
    "function",
    "builtin_function_or_method",
    "instance",
    "_Feature"
   ],
   "window_display": false
  }
 },
 "nbformat": 4,
 "nbformat_minor": 2
}
