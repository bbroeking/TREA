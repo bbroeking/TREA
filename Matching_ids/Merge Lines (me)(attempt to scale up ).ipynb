{
 "cells": [
  {
   "cell_type": "code",
   "execution_count": 28,
   "metadata": {},
   "outputs": [],
   "source": [
    "import pandas as pd"
   ]
  },
  {
   "cell_type": "code",
   "execution_count": 29,
   "metadata": {},
   "outputs": [],
   "source": [
    "o_file_name = \"MLB 175K MINI HOME RUN 20 ENTRY MAX_ownerships\"\n",
    "ending = \".csv\"\n",
    "o_location = \"C:\\\\Users\\\\broek\\\\Desktop\\\\Merged Data\\\\ownerships\\\\April\\\\4.18\\\\\"\n",
    "o_fullpath = o_location + o_file_name + ending"
   ]
  },
  {
   "cell_type": "code",
   "execution_count": 30,
   "metadata": {},
   "outputs": [],
   "source": [
    "df = pd.read_csv( o_fullpath, thousands = ',', encoding='utf-8')\n",
    "batters = pd.read_csv(\"Batters2017.csv\",encoding='utf-8')\n",
    "pitchers = pd.read_csv(\"Pitchers2017.csv\", encoding='utf-8')\n",
    "# !pip install unidecode\n",
    "import unidecode\n",
    "df = df.dropna()\n",
    "df['Player'] = df['Player'].apply(unidecode.unidecode)"
   ]
  },
  {
   "cell_type": "code",
   "execution_count": 31,
   "metadata": {},
   "outputs": [],
   "source": [
    "min_batters = batters[['Name','Team']]\n",
    "min_pitchers = pitchers[['Name','Team']]"
   ]
  },
  {
   "cell_type": "code",
   "execution_count": 32,
   "metadata": {},
   "outputs": [],
   "source": [
    "df2 = pd.concat([min_batters, min_pitchers])\n",
    "df2[\"Name\"] = df2[\"Name\"].apply(unidecode.unidecode)"
   ]
  },
  {
   "cell_type": "code",
   "execution_count": 33,
   "metadata": {},
   "outputs": [],
   "source": [
    "Name_change_dict = {('Kike Hernandez'): 'Enrique Hernandez',\n",
    "                   ('JT Riddle') : 'J.T. Riddle',\n",
    "                   ('Shin-soo Choo'):'Shin-Soo Choo',\n",
    "                   ('Raul Mondesi') : 'Adalberto Mondesi',\n",
    "                   ('Norichika Aoki') : 'Nori Aoki'}"
   ]
  },
  {
   "cell_type": "code",
   "execution_count": 34,
   "metadata": {},
   "outputs": [],
   "source": [
    "df = df.replace({\"Player\" : Name_change_dict})\n",
    "df2 = df2.replace({\"Name\" : Name_change_dict})"
   ]
  },
  {
   "cell_type": "code",
   "execution_count": 35,
   "metadata": {},
   "outputs": [],
   "source": [
    "df3 = df.merge(df2, left_on=\"Player\", right_on=\"Name\")\n",
    "df3 = df3.drop_duplicates(subset='Player')\n",
    "df3['rein']= range(0,len(df3))\n",
    "df3 = df3.set_index('rein')\n",
    "df3 = df3.drop(['Name'],axis=1)"
   ]
  },
  {
   "cell_type": "code",
   "execution_count": 36,
   "metadata": {},
   "outputs": [],
   "source": [
    "l_location =\"C:\\\\Users\\\\broek\\\\Desktop\\\\Merged Data\\\\MLBLines\\\\\"\n",
    "year = \"2017\"\n",
    "pathing = \"\\\\\"\n",
    "date = \"0418\"\n",
    "l_fullpath = l_location + year + pathing + year + date + ending"
   ]
  },
  {
   "cell_type": "code",
   "execution_count": 37,
   "metadata": {},
   "outputs": [],
   "source": [
    "lines = pd.read_csv(l_fullpath,encoding='latin1')"
   ]
  },
  {
   "cell_type": "code",
   "execution_count": 38,
   "metadata": {},
   "outputs": [],
   "source": [
    "A_lines = lines[['Away_Team', 'Away_Opening']]\n",
    "H_lines = lines[['Home_Team', 'Home_Opening']]\n",
    "A_lines = A_lines.rename(columns={'Away_Team':\"Team\",\n",
    "                                      'Away_Opening':\"Line\"})\n",
    "H_lines = H_lines.rename(columns={'Home_Team':\"Team\",\n",
    "                                      'Home_Opening':\"Line\"})"
   ]
  },
  {
   "cell_type": "code",
   "execution_count": 51,
   "metadata": {},
   "outputs": [],
   "source": [
    "total_lines = pd.concat([A_lines, H_lines])"
   ]
  },
  {
   "cell_type": "code",
   "execution_count": 40,
   "metadata": {},
   "outputs": [],
   "source": [
    "Team_name_dict= {('Rockies'): 'Colorado Rockies', \\\n",
    "          ('Giants'): 'San Francisco Giants', \\\n",
    "          ('Padres'): 'San Diego Padres', \\\n",
    "          ('Pirates'): 'Pittsburgh Pirates', \\\n",
    "          ('Diamondbacks'): 'Arizona Diamondbacks', \\\n",
    "          ('Cardinals'): 'St. Louis Cardinals', \\\n",
    "          ('Royals'): 'Kansas City Royals', \\\n",
    "          ('Angels'): 'Los Angeles Angels', \\\n",
    "          ('Rangers'): 'Texas Rangers', \\\n",
    "          ('Tigers'): 'Detroit Tigers', \\\n",
    "          ('Mariners'): 'Seattle Mariners', \\\n",
    "          ('Reds'): 'Cincinnati Reds', \\\n",
    "          ('Phillies'): 'Philadelphia Phillies', \\\n",
    "          ('Cubs'): 'Chicago Cubs', \\\n",
    "          ('Mets'): 'New York Mets', \\\n",
    "          ('Braves'): 'Atlanta Braves', \\\n",
    "          ('Brewers'): 'Milwaukee Brewers', \\\n",
    "          ('Dodgers'): 'Los Angeles Dodgers', \\\n",
    "          ('Yankees'): 'New York Yankees', \\\n",
    "          ('Rays'): 'Tampa Bay Rays', \\\n",
    "          ('Red Sox'): 'Boston Red Sox', \\\n",
    "          ('Astros'): 'Houston Astros', \\\n",
    "          ('Nationals'): 'Washington Nationals', \\\n",
    "          ('Indians'): 'Cleveland Indians', \\\n",
    "          ('Marlins'): 'Miami Marlins', \\\n",
    "          ('Twins'): 'Minnesota Twins', \\\n",
    "          ('Athletics'): 'Oakland Athletics', \\\n",
    "          ('Blue Jays'): 'Toronto Blue Jays', \\\n",
    "          (\"White Sox\"): 'Chicago White Sox', \\\n",
    "          ('Orioles'): 'Baltimore Orioles'}\n",
    "df3 = df3.replace({\"Team\":Team_name_dict})"
   ]
  },
  {
   "cell_type": "code",
   "execution_count": 41,
   "metadata": {},
   "outputs": [],
   "source": [
    "df4 = df3.merge(total_lines)\n",
    "df4 = df4.rename(columns={\"%Drafted\":\"Ownership\"})\n",
    "total_lines.to_csv(\"total_lines.csv\")"
   ]
  },
  {
   "cell_type": "code",
   "execution_count": 42,
   "metadata": {},
   "outputs": [],
   "source": [
    "t_location =\"C:\\\\Users\\\\broek\\\\Desktop\\\\Merged Data\\\\MLBTotals\\\\\"\n",
    "year = \"2017\"\n",
    "pathing = \"\\\\\"\n",
    "date = \"0418\"\n",
    "t_fullpath = t_location + year + pathing + year + date + ending"
   ]
  },
  {
   "cell_type": "code",
   "execution_count": 43,
   "metadata": {},
   "outputs": [],
   "source": [
    "totals = pd.read_csv(t_fullpath)"
   ]
  },
  {
   "cell_type": "code",
   "execution_count": 44,
   "metadata": {},
   "outputs": [],
   "source": [
    "away_totals = totals[[\"Away_Team\", \"Total\"]]\n",
    "home_totals = totals[[\"Home_Team\", \"Total\"]]\n",
    "away_totals = away_totals.rename(columns={'Away_Team':\"Team\"})\n",
    "home_totals = home_totals.rename(columns={'Home_Team':\"Team\"})"
   ]
  },
  {
   "cell_type": "code",
   "execution_count": 53,
   "metadata": {},
   "outputs": [],
   "source": [
    "total_totals = pd.concat([away_totals, home_totals])"
   ]
  },
  {
   "cell_type": "code",
   "execution_count": 46,
   "metadata": {},
   "outputs": [],
   "source": [
    "df5 = df4.merge(total_totals)"
   ]
  },
  {
   "cell_type": "code",
   "execution_count": 47,
   "metadata": {},
   "outputs": [],
   "source": [
    "df6 = pd.read_csv('PLAYERIDMAP.csv',encoding='latin1')\n",
    "df7 = df6[['mlb_name','mlb_id']]\n",
    "df8 = df5.merge(df7, left_on=\"Player\", right_on=\"mlb_name\")\n",
    "df8 = df8.drop(['mlb_name'],axis=1)"
   ]
  },
  {
   "cell_type": "code",
   "execution_count": 48,
   "metadata": {},
   "outputs": [],
   "source": [
    "df8 = df8[['Player','mlb_id','Ownership','FPTS','Team','Line','Total']]"
   ]
  },
  {
   "cell_type": "code",
   "execution_count": 49,
   "metadata": {},
   "outputs": [],
   "source": [
    "merged_location = \"C:\\\\Users\\\\broek\\\\Desktop\\\\Merged Data\\\\Merged data\\\\2017\\\\April\\\\\"\n",
    "df8.to_csv(merged_location + date + pathing + o_file_name + \" Merged.csv\")"
   ]
  }
 ],
 "metadata": {
  "kernelspec": {
   "display_name": "Python 3",
   "language": "python",
   "name": "python3"
  },
  "language_info": {
   "codemirror_mode": {
    "name": "ipython",
    "version": 3
   },
   "file_extension": ".py",
   "mimetype": "text/x-python",
   "name": "python",
   "nbconvert_exporter": "python",
   "pygments_lexer": "ipython3",
   "version": "3.7.3"
  }
 },
 "nbformat": 4,
 "nbformat_minor": 2
}
