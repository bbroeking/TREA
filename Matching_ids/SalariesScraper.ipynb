{
 "cells": [
  {
   "cell_type": "code",
   "execution_count": null,
   "metadata": {},
   "outputs": [],
   "source": []
  },
  {
   "cell_type": "code",
   "execution_count": 10,
   "metadata": {},
   "outputs": [],
   "source": [
    "import pandas as pd\n",
    "from bs4 import BeautifulSoup\n",
    "import requests\n",
    "import io\n",
    "import datetime\n",
    "pd.options.display.max_columns=999"
   ]
  },
  {
   "cell_type": "code",
   "execution_count": 24,
   "metadata": {},
   "outputs": [],
   "source": [
    "# 2016\n",
    "# date1 = '2016-04-02'\n",
    "# date2 = '2016-10-02'\n",
    "# 2017\n",
    "date1 = '2017-04-02'\n",
    "date2 = '2017-10-01'\n",
    "# 2018\n",
    "# date1 = '2018-03-29'\n",
    "# date2 = '2018-10-01'\n",
    "mydates = pd.date_range(date1, date2).tolist()\n",
    "BASE_URL=\"http://rotoguru1.com/cgi-bin/byday.pl?game=dk&month=MONTH&day=DAY&year=YEAR\" #Draftkings"
   ]
  },
  {
   "cell_type": "code",
   "execution_count": 25,
   "metadata": {},
   "outputs": [],
   "source": [
    "positions_dict = dict()\n",
    "positions_dict[\"2\"] = \"C\"\n",
    "positions_dict[\"3\"] = \"1B\"\n",
    "positions_dict[\"4\"] = \"2B\"\n",
    "positions_dict[\"5\"] = \"3B\"\n",
    "positions_dict[\"6\"] = \"SS\"\n",
    "positions_dict[\"7\"] = \"OF\""
   ]
  },
  {
   "cell_type": "code",
   "execution_count": 47,
   "metadata": {
    "scrolled": true
   },
   "outputs": [
    {
     "name": "stdout",
     "output_type": "stream",
     "text": [
      "<tr>\n",
      " <td>\n",
      "  P\n",
      " </td>\n",
      " <td nowrap=\"\">\n",
      "  <a href=\"http://rotoguru1.com/cgi-bin/player17.cgi?109yx\" target=\"_blank\">\n",
      "   Kelvin Herrera\n",
      "  </a>\n",
      " </td>\n",
      " <td align=\"center\">\n",
      "  4.25\n",
      " </td>\n",
      " <td align=\"right\">\n",
      "  $4,200\n",
      " </td>\n",
      " <td align=\"center\">\n",
      "  KAN\n",
      " </td>\n",
      " <td nowrap=\"\">\n",
      "  v laa\n",
      " </td>\n",
      " <td nowrap=\"\">\n",
      "  3-2\n",
      " </td>\n",
      " <td align=\"left\" nowrap=\"\">\n",
      "  1.0IP K\n",
      "  <font color=\"green\">\n",
      "   Save\n",
      "  </font>\n",
      " </td>\n",
      "</tr>\n",
      "\n"
     ]
    }
   ],
   "source": [
    "# for date in mydates:\n",
    "result = pd.to_datetime(date)\n",
    "result += datetime.timedelta(days=1)\n",
    "date_str=str(result.month) + \"_\" + str(result.day) + \"_\" + str(result.year)\n",
    "BASE_URL=\"http://rotoguru1.com/cgi-bin/byday.pl?game=dk&month=MONTH&day=DAY&year=YEAR\"\n",
    "URL = BASE_URL.replace(\"DAY\", str(date.day)).replace(\"MONTH\", str(date.month)).replace(\"YEAR\", str(date.year))\n",
    "context = requests.get(URL).content\n",
    "soup = BeautifulSoup(context,'html.parser')\n",
    "tables  = soup.find_all(\"tr\")\n",
    "len(tables)\n",
    "print(tables[66].prettify())"
   ]
  },
  {
   "cell_type": "code",
   "execution_count": 50,
   "metadata": {},
   "outputs": [],
   "source": [
    "parts = tables[66].find_all(\"td\")"
   ]
  },
  {
   "cell_type": "code",
   "execution_count": 54,
   "metadata": {},
   "outputs": [
    {
     "name": "stdout",
     "output_type": "stream",
     "text": [
      "<td>P</td>\n",
      "<td nowrap=\"\"><a href=\"http://rotoguru1.com/cgi-bin/player17.cgi?109yx\" target=\"_blank\">Kelvin Herrera</a></td>\n",
      "<td align=\"center\">  4.25</td>\n",
      "<td align=\"right\">$4,200</td>\n",
      "<td align=\"center\">KAN</td>\n",
      "<td nowrap=\"\">v laa</td>\n",
      "<td nowrap=\"\"> 3-2</td>\n",
      "<td align=\"left\" nowrap=\"\">  1.0IP K <font color=\"green\">Save</font> </td>\n"
     ]
    }
   ],
   "source": [
    "for part in parts:\n",
    "    print(part)"
   ]
  },
  {
   "cell_type": "code",
   "execution_count": null,
   "metadata": {},
   "outputs": [],
   "source": []
  }
 ],
 "metadata": {
  "kernelspec": {
   "display_name": "Python 3",
   "language": "python",
   "name": "python3"
  },
  "language_info": {
   "codemirror_mode": {
    "name": "ipython",
    "version": 3
   },
   "file_extension": ".py",
   "mimetype": "text/x-python",
   "name": "python",
   "nbconvert_exporter": "python",
   "pygments_lexer": "ipython3",
   "version": "3.7.2"
  }
 },
 "nbformat": 4,
 "nbformat_minor": 2
}
