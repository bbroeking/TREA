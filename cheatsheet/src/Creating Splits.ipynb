{
 "cells": [
  {
   "cell_type": "code",
   "execution_count": 1,
   "metadata": {},
   "outputs": [],
   "source": [
    "import pandas as pd"
   ]
  },
  {
   "cell_type": "code",
   "execution_count": 2,
   "metadata": {},
   "outputs": [],
   "source": [
    "## 2016 Batters ##\n",
    "batters_L_2016 = pd.read_csv(\"batter_splits/batters_vL_2016.csv\")\n",
    "batters_R_2016 = pd.read_csv(\"batter_splits/batters_vR_2016.csv\")\n",
    "## 2017 Batters ##\n",
    "batters_L_2017 = pd.read_csv(\"batter_splits/batters_vL_2017.csv\")\n",
    "batters_R_2017 = pd.read_csv(\"batter_splits/batters_vR_2017.csv\")\n",
    "## 2018 Batters ##\n",
    "batters_L_2018 = pd.read_csv(\"batter_splits/batters_vL_2018.csv\")\n",
    "batters_R_2018 = pd.read_csv(\"batter_splits/batters_vR_2018.csv\")\n",
    "## 2016 Pitchers ##\n",
    "pitchers_L_2016 = pd.read_csv(\"pitcher_splits/pitcher_vL_2016.csv\")\n",
    "pitchers_R_2016 = pd.read_csv(\"pitcher_splits/pitcher_vR_2016.csv\")\n",
    "## 2017 Pitchers ##\n",
    "pitchers_L_2017 = pd.read_csv(\"pitcher_splits/pitcher_vL_2017.csv\")\n",
    "pitchers_R_2017 = pd.read_csv(\"pitcher_splits/pitcher_vR_2017.csv\")\n",
    "## 2018 Pitchers ##\n",
    "pitchers_L_2018 = pd.read_csv(\"pitcher_splits/pitcher_vL_2018.csv\")\n",
    "pitchers_R_2018 = pd.read_csv(\"pitcher_splits/pitcher_vR_2018.csv\")\n",
    "\n",
    "salary = pd.read_csv(\"salaries/20190402.csv\")\n",
    "playeridmap = pd.read_csv(\"PLAYERIDMAP.csv\")"
   ]
  },
  {
   "cell_type": "code",
   "execution_count": 3,
   "metadata": {},
   "outputs": [],
   "source": [
    "pitcher_salary = salary[salary['Position'] == \"SP\"]\n",
    "batter_salary = salary[salary['Roster Position'] != \"P\"]"
   ]
  },
  {
   "cell_type": "code",
   "execution_count": 4,
   "metadata": {},
   "outputs": [],
   "source": [
    "pitcher_woba_2018 = pd.merge(pitchers_L_2018, pitchers_R_2018,\n",
    "                        left_on=\"playerid\", right_on=\"playerid\", \n",
    "                        suffixes=('_vL', '_vR'))\n",
    "pitcher_woba_2017 = pd.merge(pitchers_L_2017, pitchers_R_2017,\n",
    "                        left_on=\"playerid\", right_on=\"playerid\",\n",
    "                        suffixes=('_vL', '_vR'))\n",
    "pitcher_woba_2016 = pd.merge(pitchers_L_2016, pitchers_R_2016,\n",
    "                        left_on=\"playerid\", right_on=\"playerid\",\n",
    "                        suffixes=('_vL', '_vR'))\n",
    "pitcher_woba_2016.rename(index=str, columns={'Name_vR':'Name', 'Team_vR':'Team'}, inplace=True)\n",
    "pitcher_woba_2017.rename(index=str, columns={'Name_vR':'Name', 'Team_vR':'Team'}, inplace=True)\n",
    "pitcher_woba_2018.rename(index=str, columns={'Name_vR':'Name', 'Team_vR':'Team'}, inplace=True)\n",
    "pitcher_woba_2016.drop(['Name_vL', 'Team_vL'], axis=1, inplace=True)\n",
    "pitcher_woba_2017.drop(['Name_vL', 'Team_vL'], axis=1, inplace=True)\n",
    "pitcher_woba_2018.drop(['Name_vL', 'Team_vL'], axis=1, inplace=True)"
   ]
  },
  {
   "cell_type": "code",
   "execution_count": 5,
   "metadata": {},
   "outputs": [],
   "source": [
    "batter_woba_2018 = pd.merge(batters_L_2018, batters_R_2018,\n",
    "                            left_on=\"playerid\", right_on=\"playerid\",\n",
    "                            suffixes=('_vL', '_vR'))\n",
    "batter_woba_2017 = pd.merge(batters_L_2017, batters_R_2017,\n",
    "                            left_on=\"playerid\", right_on=\"playerid\",\n",
    "                            suffixes=('_vL', '_vR'))\n",
    "batter_woba_2016 = pd.merge(batters_L_2016, batters_R_2016,\n",
    "                            left_on=\"playerid\", right_on=\"playerid\",\n",
    "                            suffixes=('_vL', '_vR'))\n",
    "batter_woba_2016.rename(index=str, columns={'Name_vR':'Name', 'Team_vR':'Team'}, inplace=True)\n",
    "batter_woba_2017.rename(index=str, columns={'Name_vR':'Name', 'Team_vR':'Team'}, inplace=True)\n",
    "batter_woba_2018.rename(index=str, columns={'Name_vR':'Name', 'Team_vR':'Team'}, inplace=True)\n",
    "batter_woba_2016.drop(['Name_vL', 'Team_vL'], axis=1, inplace=True)\n",
    "batter_woba_2017.drop(['Name_vL', 'Team_vL'], axis=1, inplace=True)\n",
    "batter_woba_2018.drop(['Name_vL', 'Team_vL'], axis=1, inplace=True)"
   ]
  },
  {
   "cell_type": "code",
   "execution_count": 6,
   "metadata": {},
   "outputs": [],
   "source": [
    "# Match salary info with fangraphs id\n",
    "pid_map = playeridmap[['IDFANGRAPHS', 'DRAFTKINGSNAME']].copy()\n",
    "pid_map.dropna(inplace=True, how=\"any\")\n",
    "salary_w_id = pd.merge(salary, pid_map, left_on=\"Name\", right_on=\"DRAFTKINGSNAME\")\n",
    "salary_info = salary_w_id[['Name', 'Roster Position', 'Salary', 'TeamAbbrev', 'IDFANGRAPHS']].copy()"
   ]
  },
  {
   "cell_type": "code",
   "execution_count": 37,
   "metadata": {},
   "outputs": [],
   "source": [
    "df = pd.DataFrame(columns=['id', 'wRC+_vL', 'wRC+_vR'])"
   ]
  },
  {
   "cell_type": "code",
   "execution_count": 49,
   "metadata": {},
   "outputs": [
    {
     "name": "stdout",
     "output_type": "stream",
     "text": [
      "620    13\n",
      "Name: PA_vL, dtype: int64\n"
     ]
    }
   ],
   "source": [
    "for index, row in salary_info.iterrows():\n",
    "    dict_woba = {}\n",
    "    pid = int(row['IDFANGRAPHS'])\n",
    "    pid_woba_2016 = batter_woba_2016[batter_woba_2016['playerid'] == pid]\n",
    "    pid_woba_2017 = batter_woba_2017[batter_woba_2017['playerid'] == pid]\n",
    "    pid_woba_2018 = batter_woba_2018[batter_woba_2018['playerid'] == pid]\n",
    "    \n",
    "    PA_2016 = pid_woba_2016['PA_vL'] + pid_woba_2016['PA_vR']\n",
    "    PA_2017 = pid_woba_2017['PA_vL'] + pid_woba_2017['PA_vR']\n",
    "    PA_2018 = pid_woba_2018['PA_vL'] + pid_woba_2018['PA_vR']\n",
    "    \n",
    "    ISO_vL = pid_woba_2016['ISO_vL'] * 0.05 + pid_woba_2017['ISO_vL'] * 0.25 + pid_woba_2018['ISO_vL'] * 0.7\n",
    "    ISO_vR = pid_woba_2016['ISO_vR'] * 0.05 + pid_woba_2017['ISO_vR'] * 0.25 + pid_woba_2018['ISO_vR'] * 0.7\n",
    "    \n",
    "    wOBA_vL = pid_woba_2016['wRC+_vL'] * 0.05 + pid_woba_2017['wRC+_vL'] * 0.25 + pid_woba_2018['wRC+_vL'] * 0.7\n",
    "    wOBA_vR = pid_woba_2016['wRC+_vR'] * 0.05 + pid_woba_2017['wRC+_vR'] * 0.25 + pid_woba_2018['wRC+_vR'] * 0.7\n",
    "\n",
    "    print(pid_woba_2016['PA_vL'])\n",
    "    \n",
    "    \n",
    "    dict_woba['pid'] = pid\n",
    "    dict_woba['wRC+_vL'] = pid_woba_2018['wRC+_vL']\n",
    "    dict_woba['wRC+_vR'] = pid_woba_2018['wRC+_vR']\n",
    "#     print(dict_woba)\n",
    "    df = df.append(dict_woba, ignore_index=True)\n",
    "#     result = pd.merge(pid_woba_2016[['Name', 'ISO_vL', 'ISO_vR', 'wRC+_vL', 'wRC+_vR', 'playerid']],\n",
    "#                       pid_woba_2017[['ISO_vL', 'ISO_vR', 'wRC+_vL', 'wRC+_vR', 'playerid']], \n",
    "#                       left_on=\"playerid\", right_on=\"playerid\", suffixes=('_2016', '_2017'))\n",
    "#     result = pd.merge(result, pid_woba_2018[['ISO_vL', 'ISO_vR', 'wRC+_vL', 'wRC+_vR', 'playerid']], \n",
    "#                       left_on=\"playerid\", right_on=\"playerid\")\n",
    "    break"
   ]
  },
  {
   "cell_type": "code",
   "execution_count": 82,
   "metadata": {},
   "outputs": [],
   "source": [
    "bid_salary_pitcher = pitcher_salary.merge(playeridmap, left_on=\"Name\", right_on=\"DRAFTKINGSNAME\", how=\"inner\")\n",
    "id_salary_batter = batter_salary.merge(playeridmap, left_on=\"Name\", right_on=\"DRAFTKINGSNAME\", how=\"inner\")\n",
    "\n",
    "id_salary_pitcher.IDFANGRAPHS = pd.to_numeric(id_salary_pitcher.IDFANGRAPHS, errors='coerce')\n",
    "id_salary_batter.IDFANGRAPHS = pd.to_numeric(id_salary_batter.IDFANGRAPHS, errors='coerce')"
   ]
  },
  {
   "cell_type": "code",
   "execution_count": 60,
   "metadata": {},
   "outputs": [],
   "source": [
    "id_salary_pitcher_splits = id_salary_pitcher.merge(pitcher_woba, left_on=\"IDFANGRAPHS\", right_on=\"playerid\", how=\"inner\")\n",
    "id_salary_batter_splits = id_salary_batter.merge(batter_woba, left_on=\"IDFANGRAPHS\", right_on=\"playerid\", how=\"inner\")"
   ]
  },
  {
   "cell_type": "code",
   "execution_count": 61,
   "metadata": {},
   "outputs": [],
   "source": [
    "pitcher_splits = id_salary_pitcher_splits[['Position', 'Name_x', 'Salary', 'TeamAbbrev', 'wOBA_x', 'wOBA_y']]\n",
    "batter_splits = id_salary_batter_splits[['Position', 'Name_x', 'Salary', 'TeamAbbrev', 'wOBA_x', 'wOBA_y']]"
   ]
  },
  {
   "cell_type": "code",
   "execution_count": 62,
   "metadata": {},
   "outputs": [
    {
     "data": {
      "text/html": [
       "<div>\n",
       "<style scoped>\n",
       "    .dataframe tbody tr th:only-of-type {\n",
       "        vertical-align: middle;\n",
       "    }\n",
       "\n",
       "    .dataframe tbody tr th {\n",
       "        vertical-align: top;\n",
       "    }\n",
       "\n",
       "    .dataframe thead th {\n",
       "        text-align: right;\n",
       "    }\n",
       "</style>\n",
       "<table border=\"1\" class=\"dataframe\">\n",
       "  <thead>\n",
       "    <tr style=\"text-align: right;\">\n",
       "      <th></th>\n",
       "      <th>Position</th>\n",
       "      <th>Name_x</th>\n",
       "      <th>Salary</th>\n",
       "      <th>TeamAbbrev</th>\n",
       "      <th>wOBA_x</th>\n",
       "      <th>wOBA_y</th>\n",
       "    </tr>\n",
       "  </thead>\n",
       "  <tbody>\n",
       "    <tr>\n",
       "      <th>0</th>\n",
       "      <td>SP</td>\n",
       "      <td>Justin Verlander</td>\n",
       "      <td>11000</td>\n",
       "      <td>HOU</td>\n",
       "      <td>0.252</td>\n",
       "      <td>0.265</td>\n",
       "    </tr>\n",
       "    <tr>\n",
       "      <th>1</th>\n",
       "      <td>SP</td>\n",
       "      <td>Corey Kluber</td>\n",
       "      <td>10500</td>\n",
       "      <td>CLE</td>\n",
       "      <td>0.290</td>\n",
       "      <td>0.250</td>\n",
       "    </tr>\n",
       "    <tr>\n",
       "      <th>2</th>\n",
       "      <td>SP</td>\n",
       "      <td>Gerrit Cole</td>\n",
       "      <td>10400</td>\n",
       "      <td>HOU</td>\n",
       "      <td>0.236</td>\n",
       "      <td>0.293</td>\n",
       "    </tr>\n",
       "    <tr>\n",
       "      <th>3</th>\n",
       "      <td>SP</td>\n",
       "      <td>Clayton Kershaw</td>\n",
       "      <td>10200</td>\n",
       "      <td>LAD</td>\n",
       "      <td>0.290</td>\n",
       "      <td>0.267</td>\n",
       "    </tr>\n",
       "    <tr>\n",
       "      <th>4</th>\n",
       "      <td>SP</td>\n",
       "      <td>Trevor Bauer</td>\n",
       "      <td>9900</td>\n",
       "      <td>CLE</td>\n",
       "      <td>0.256</td>\n",
       "      <td>0.264</td>\n",
       "    </tr>\n",
       "  </tbody>\n",
       "</table>\n",
       "</div>"
      ],
      "text/plain": [
       "  Position            Name_x  Salary TeamAbbrev  wOBA_x  wOBA_y\n",
       "0       SP  Justin Verlander   11000        HOU   0.252   0.265\n",
       "1       SP      Corey Kluber   10500        CLE   0.290   0.250\n",
       "2       SP       Gerrit Cole   10400        HOU   0.236   0.293\n",
       "3       SP   Clayton Kershaw   10200        LAD   0.290   0.267\n",
       "4       SP      Trevor Bauer    9900        CLE   0.256   0.264"
      ]
     },
     "execution_count": 62,
     "metadata": {},
     "output_type": "execute_result"
    }
   ],
   "source": [
    "pitcher_splits.head()"
   ]
  },
  {
   "cell_type": "code",
   "execution_count": null,
   "metadata": {},
   "outputs": [],
   "source": []
  }
 ],
 "metadata": {
  "kernelspec": {
   "display_name": "Python 3",
   "language": "python",
   "name": "python3"
  },
  "language_info": {
   "codemirror_mode": {
    "name": "ipython",
    "version": 3
   },
   "file_extension": ".py",
   "mimetype": "text/x-python",
   "name": "python",
   "nbconvert_exporter": "python",
   "pygments_lexer": "ipython3",
   "version": "3.7.2"
  }
 },
 "nbformat": 4,
 "nbformat_minor": 2
}
