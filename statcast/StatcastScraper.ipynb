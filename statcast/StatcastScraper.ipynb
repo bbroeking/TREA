{
 "cells": [
  {
   "cell_type": "code",
   "execution_count": 5,
   "metadata": {},
   "outputs": [],
   "source": [
    "# Official Scraper Functions for Statcast\n",
    "# All functions are derived from the website baseballsavant\n",
    "import pandas as pd"
   ]
  },
  {
   "cell_type": "code",
   "execution_count": 9,
   "metadata": {},
   "outputs": [],
   "source": [
    "def get_savant_data(playertype, gamedate_gt, gamedate_lt):\n",
    "    \"\"\"\n",
    "        playertype- either pitcher or batter\n",
    "        gamedate_gt- MM-DD-YYYY\n",
    "        gamtedate_lt- MM-DD-YYYY\n",
    "    \"\"\"\n",
    "    url = 'https://baseballsavant.mlb.com/statcast_search/csv?all=true&hfPT=&hfAB=&hfBBT=&hfPR=&hfZ=&stadium=&hfBBL=&hfNewZones=&hfGT=R%7C&hfC=&hfSea=2019%7C&hfSit=&player_type=PLAYERTYPE&hfOuts=&opponent=&pitcher_throws=&batter_stands=&hfSA=&game_date_gt=GAMEDATEGT&game_date_lt=GAMEDATELT&hfInfield=&team=&position=&hfOutfield=&hfRO=&home_road=&hfFlag=&hfPull=&metric_1=&hfInn=&min_pitches=0&min_results=0&group_by=name&sort_col=pitches&player_event_sort=h_launch_speed&sort_order=desc&min_pas=0&type=details&'\n",
    "    populated_url = url.replace(\"PLAYERTYPE\", playertype).replace(\"GAMEDATEGT\", gamedate_gt).replace(\"GAMEDATELT\", gamedate_lt)\n",
    "    dataframe = pd.read_csv(populated_url)\n",
    "    return dataframe"
   ]
  },
  {
   "cell_type": "code",
   "execution_count": 10,
   "metadata": {},
   "outputs": [],
   "source": [
    "# Example Usage\n",
    "df = get_savant_data(\"batter\", \"08-01-2019\", \"08-03-2019\")"
   ]
  },
  {
   "cell_type": "code",
   "execution_count": 22,
   "metadata": {},
   "outputs": [],
   "source": [
    "from datetime import timedelta, date\n",
    "\n",
    "def daterange(start_date, end_date):\n",
    "    for n in range(int ((end_date - start_date).days)):\n",
    "        yield start_date + timedelta(n)\n",
    "start_date = date(2019, 9, 30)\n",
    "end_date = date(2019, 10, 1)\n",
    "for single_date in daterange(start_date, end_date):\n",
    "\n",
    "    date = single_date.strftime(\"%Y-%m-%d\")\n",
    "    df = get_savant_data(\"batter\", date, date)\n",
    "    df.to_csv(\"../data/statcast/{}-batter.csv\".format(date))\n",
    "    df = get_savant_data(\"pitcher\", date, date)\n",
    "    df.to_csv(\"../data/statcast/{}-pitcher.csv\".format(date))"
   ]
  },
  {
   "cell_type": "code",
   "execution_count": null,
   "metadata": {},
   "outputs": [],
   "source": []
  }
 ],
 "metadata": {
  "kernelspec": {
   "display_name": "Python 3",
   "language": "python",
   "name": "python3"
  }
 },
 "nbformat": 4,
 "nbformat_minor": 2
}
