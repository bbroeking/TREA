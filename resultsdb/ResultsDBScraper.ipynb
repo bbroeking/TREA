{
 "cells": [
  {
   "cell_type": "code",
   "execution_count": 86,
   "metadata": {},
   "outputs": [],
   "source": [
    "import requests\n",
    "import json\n",
    "# Date format MM/DD/YYYY\n",
    "# Site DK=20 FD=2\n",
    "DATE = \"08/05/2019\"\n",
    "SITE = \"20\"\n",
    "# Vars -- DATE, SITE\n",
    "SLATES = \"https://resultsdb-api.rotogrinders.com/api/slates?start=DATE&site=SITE\"\n",
    "# Vars -- SLATEID\n",
    "CONTEST_OWNERSHIP = \"https://resultsdb-api.rotogrinders.com/api/contest-ownership?_slateId=SLATEID\"\n",
    "# Vars -- CONTESTID, INDEXNUM\n",
    "CONTEST_LINEUPS = \"https://resultsdb-api.rotogrinders.com/api/entries?_contestId=CONTESTID&sortBy=points&order=desc&index=INDEXNUM&maxFinish=58750&players=&users=false&username=&isLive=false&minPoints=&maxSalaryUsed=&incomplete=false&positionsRemaining=&requiredStartingPositions=\"\n",
    "# Vars SLATEID\n",
    "CONTEST_SLATE = \"https://resultsdb-api.rotogrinders.com/api/contests?slates=SLATEID&lean=true\"\n",
    "# Vars -- SLATEID (get summary)\n",
    "SUMMARY = \"\""
   ]
  },
  {
   "cell_type": "code",
   "execution_count": 87,
   "metadata": {
    "scrolled": false
   },
   "outputs": [],
   "source": [
    "\"\"\"\n",
    "    pulls the different slates based on the date and the site\n",
    "    date- date of the event \n",
    "    site- defaults to Draftkings=20, Fanduel=2\n",
    "    sport- filters the slate by sport, defaults to None\n",
    "    slate_type- fitlers on the type of contest, Classic by default\n",
    "\"\"\"\n",
    "sport_mapping = {\"baseball\": 2}\n",
    "def get_slates(date, site=\"20\", sport=None, slate_type=\"Classic\"):\n",
    "    slate = SLATES.replace(\"DATE\", date).replace(\"SITE\", site)\n",
    "    slate_data = requests.get(slate).json()\n",
    "    if sport is not None:\n",
    "        slate_data = [slate for slate in slate_data if slate['sport'] == sport_mapping[sport]]\n",
    "    if slate_type is not None:\n",
    "        slate_data = [slate for slate in slate_data if slate['slateTypeName'] == slate_type]\n",
    "    return slate_data"
   ]
  },
  {
   "cell_type": "code",
   "execution_count": 88,
   "metadata": {},
   "outputs": [],
   "source": [
    "\"\"\"\n",
    "    Fetches the ownerships for a particular slate. Returns the data as a dictionary of players \n",
    "    with individual contest ownership after\n",
    "    slate_id - id of the slate found with the get_slates function\n",
    "    returns daily_ownerships dict\n",
    "\"\"\"\n",
    "def get_contest_ownerships(slate_id):\n",
    "    contest_ownership_url = CONTEST_OWNERSHIP.replace(\"SLATEID\", slate_id)\n",
    "    daily_ownerships = requests.get(contest_ownership_url).json()\n",
    "    return daily_ownerships"
   ]
  },
  {
   "cell_type": "code",
   "execution_count": 89,
   "metadata": {},
   "outputs": [],
   "source": [
    "\"\"\"\n",
    "    Fetches the contests from the slate on that day.\n",
    "    slate_id -- id of the slate to find contests for\n",
    "    returns contests in that slate\n",
    "\"\"\"\n",
    "def get_contests_from_slate(slate_id):\n",
    "    contests_in_slate_url = CONTEST_SLATE.replace(\"SLATEID\", slate_id)\n",
    "    contests_in_slate = requests.get(contests_in_slate_url).json()\n",
    "    return contests_in_slate"
   ]
  },
  {
   "cell_type": "code",
   "execution_count": 90,
   "metadata": {},
   "outputs": [],
   "source": [
    "\"\"\"\n",
    "    Fetches the lineups 25 at a time based on the contest_id and index passed\n",
    "    contest_id- id of the contest to fetch (found in the summary call)\n",
    "    index- index of the lineups to fetch (fetches number 25*(index) - 25*(index+1))\n",
    "    returns lineups\n",
    "\"\"\"\n",
    "def get_contest_lineups(contest_id, index=0):\n",
    "    contest_lineup_url = CONTEST_LINEUPS.replace(\"CONTESTID\", contest_id)\n",
    "    daily_lineups = requests.get(contest_lineup_url).json()\n",
    "    return daily_lineups"
   ]
  },
  {
   "cell_type": "code",
   "execution_count": 91,
   "metadata": {},
   "outputs": [],
   "source": [
    "daily_slate = get_slates(DATE, SITE, sport=\"baseball\")\n",
    "SLATEID = daily_slate[1]['_id']\n",
    "daily_contest_lineups = get_contest_lineups(CONTEST_ID)\n",
    "contests_in_slate = get_contests_from_slate(SLATEID)\n",
    "contests_in_slate[0].keys()\n",
    "CONTEST_ID = \"5d7f7a67d0585a501d5c53be\"\n",
    "len(daily_ownerships)\n",
    "daily_ownerships.keys()"
   ]
  }
 ],
 "metadata": {
  "kernelspec": {
   "display_name": "Python 3",
   "language": "python",
   "name": "python3"
  },
  "language_info": {
   "codemirror_mode": {
    "name": "ipython",
    "version": 3
   },
   "file_extension": ".py",
   "mimetype": "text/x-python",
   "name": "python",
   "nbconvert_exporter": "python",
   "pygments_lexer": "ipython3",
   "version": "3.7.2"
  }
 },
 "nbformat": 4,
 "nbformat_minor": 2
}
