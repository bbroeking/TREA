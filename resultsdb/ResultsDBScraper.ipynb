{
 "cells": [
  {
   "cell_type": "code",
   "execution_count": 2,
   "metadata": {},
   "outputs": [
    {
     "name": "stdout",
     "output_type": "stream",
     "text": [
      "https://resultsdb-api.rotogrinders.com/api/slates?start=08/05/2019&site=20\n"
     ]
    }
   ],
   "source": [
    "import requests\n",
    "import json\n",
    "# Date format MM/DD/YYYY\n",
    "# Site DK=20 FD=2\n",
    "DATE = \"08/05/2019\"\n",
    "SITE = \"20\"\n",
    "SLATES = \"https://resultsdb-api.rotogrinders.com/api/slates?start=DATE&site=SITE\"\n",
    "\n",
    "print(SLATES.replace(\"DATE\", DATE).replace(\"SITE\", SITE))"
   ]
  },
  {
   "cell_type": "code",
   "execution_count": 14,
   "metadata": {
    "scrolled": false
   },
   "outputs": [
    {
     "name": "stdout",
     "output_type": "stream",
     "text": [
      "https://resultsdb-api.rotogrinders.com/api/contest-ownership?_slateId=5d496dede7d5973f2bdf7d32\n"
     ]
    }
   ],
   "source": [
    "SLATE = SLATES.replace(\"DATE\", DATE).replace(\"SITE\", SITE)\n",
    "slate_json = requests.get(SLATE).json()\n",
    "SLATEID = slate_json[1]['_id']\n",
    "CONTEST_OWNERSHIP = \"https://resultsdb-api.rotogrinders.com/api/contest-ownership?_slateId=SLATEID\"\n",
    "CONTEST_OWNERSHIP_ID = CONTEST_OWNERSHIP.replace(\"SLATEID\", SLATEID)\n",
    "print(CONTEST_OWNERSHIP_ID)"
   ]
  },
  {
   "cell_type": "code",
   "execution_count": 15,
   "metadata": {},
   "outputs": [],
   "source": [
    "ownership_json = requests.get(CONTEST_OWNERSHIP_ID).json()"
   ]
  },
  {
   "cell_type": "code",
   "execution_count": 20,
   "metadata": {
    "scrolled": false
   },
   "outputs": [],
   "source": [
    "mm = requests.get(\"https://resultsdb-api.rotogrinders.com/api/contests?slates=5d4372269a79fa015c680afa\").json()"
   ]
  },
  {
   "cell_type": "code",
   "execution_count": 23,
   "metadata": {},
   "outputs": [
    {
     "data": {
      "text/plain": [
       "30"
      ]
     },
     "execution_count": 23,
     "metadata": {},
     "output_type": "execute_result"
    }
   ],
   "source": [
    "len(mm)"
   ]
  },
  {
   "cell_type": "code",
   "execution_count": null,
   "metadata": {},
   "outputs": [],
   "source": []
  }
 ],
 "metadata": {
  "kernelspec": {
   "display_name": "Python 3",
   "language": "python",
   "name": "python3"
  },
  "language_info": {
   "codemirror_mode": {
    "name": "ipython",
    "version": 3
   },
   "file_extension": ".py",
   "mimetype": "text/x-python",
   "name": "python",
   "nbconvert_exporter": "python",
   "pygments_lexer": "ipython3",
   "version": "3.7.2"
  }
 },
 "nbformat": 4,
 "nbformat_minor": 2
}
